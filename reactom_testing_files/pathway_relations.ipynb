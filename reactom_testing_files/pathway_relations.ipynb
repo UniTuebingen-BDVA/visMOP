{
 "cells": [
  {
   "cell_type": "code",
   "execution_count": 4,
   "metadata": {},
   "outputs": [],
   "source": [
    "class ReactomePathway:\n",
    "    def __init__(self, reactome_sID):\n",
    "        self.is_Root= False\n",
    "        self.is_Leaf= False\n",
    "        self.name= ''\n",
    "        self.reactome_sID= reactome_sID\n",
    "        self.children= []\n",
    "        self.parents= []\n",
    "        self.level = -1\n",
    "        self.root_id = ''\n",
    "    def asdict(self):\n",
    "        \"\"\" return the ReactomePathway  as dictionary \n",
    "        \"\"\"\n",
    "        return {'reactome_sID': self.reactome_sID, 'children': self.children, 'parents': self.parents, 'is_leaf': self.is_Leaf, 'is_root': self.is_Root, 'level': self.level, 'root_id': self.root_id}        \n",
    "    def assert_leaf_root_state(self):\n",
    "        if len(self.children) == 0:\n",
    "            self.is_Leaf= True\n",
    "        if len(self.parents) == 0:\n",
    "            self.is_Root = True\n",
    "\n"
   ]
  },
  {
   "cell_type": "code",
   "execution_count": 5,
   "metadata": {},
   "outputs": [],
   "source": [
    "class PathwayHierarchy(dict):\n",
    "    def __init__(self, *arg, **kw):\n",
    "       super(PathwayHierarchy, self).__init__(*arg, **kw)\n",
    "    def add_hierarchy_levels(self):\n",
    "        for k,v in self.items():\n",
    "            level = 0\n",
    "            not_at_root = True\n",
    "            next_elem = k\n",
    "            partent_name = ''\n",
    "            while not_at_root:\n",
    "                if len(self[next_elem].parents) < 1:\n",
    "                    not_at_root = False\n",
    "                    partent_name = next_elem\n",
    "                    break\n",
    "                else:\n",
    "                    level += 1\n",
    "                    next_elem = self[next_elem].parents[0] # [0] is temp fix disregards more than one parent\n",
    "            v.level = level\n",
    "            v.root_name = next_elem\n",
    "\n",
    "\n",
    "    def hierarchyInfo(self):\n",
    "        entries = len(self.keys()) \n",
    "        leafs = len([v for k,v in self.items() if v.is_Leaf])\n",
    "        roots = len([v for k,v in self.items() if v.is_Root])\n",
    "        return {'size': entries, 'leafs': leafs, 'roots': roots}\n",
    "    def getLevel(self, key):\n",
    "        print('test')\n"
   ]
  },
  {
   "cell_type": "code",
   "execution_count": 6,
   "metadata": {},
   "outputs": [],
   "source": [
    "pathways = PathwayHierarchy()\n",
    "\n",
    "organism = \"MMU\"\n",
    "\n",
    "with open('ReactomePathwaysRelation.txt') as fh:\n",
    "    for line in fh:\n",
    "        line_list = line.strip().split('\\t')\n",
    "        left_entry = line_list[0]\n",
    "        right_entry = line_list[1]\n",
    "        if(organism in left_entry):\n",
    "            if left_entry not in pathways.keys():\n",
    "                pathways[left_entry] = ReactomePathway(left_entry)\n",
    "                pathways[left_entry].children.append(right_entry)\n",
    "            else:\n",
    "                pathways[left_entry].children.append(right_entry)\n",
    "            if right_entry not in pathways.keys():\n",
    "                pathways[right_entry] = ReactomePathway(right_entry)\n",
    "                pathways[right_entry].parents.append(left_entry)\n",
    "            else:\n",
    "                pathways[right_entry].parents.append(left_entry)\n",
    "\n",
    "for k,v in pathways.items():\n",
    "    v.assert_leaf_root_state()\n",
    "\n",
    "pathways.add_hierarchy_levels()"
   ]
  },
  {
   "cell_type": "code",
   "execution_count": 7,
   "metadata": {},
   "outputs": [
    {
     "name": "stdout",
     "output_type": "stream",
     "text": [
      "{'size': 1704, 'leafs': 1127, 'roots': 27}\n"
     ]
    }
   ],
   "source": [
    "print(pathways.hierarchyInfo())"
   ]
  },
  {
   "cell_type": "code",
   "execution_count": 8,
   "metadata": {},
   "outputs": [
    {
     "name": "stdout",
     "output_type": "stream",
     "text": [
      "{'reactome_sID': 'R-MMU-556833', 'children': ['R-MMU-1483257', 'R-MMU-400206', 'R-MMU-428157', 'R-MMU-74182', 'R-MMU-8848584', 'R-MMU-8957322', 'R-MMU-8964572', 'R-MMU-8978868', 'R-MMU-8979227', 'R-MMU-9018678'], 'parents': ['R-MMU-1430728'], 'is_leaf': False, 'is_root': False, 'level': 1, 'root-name': 'R-MMU-1430728'}\n"
     ]
    }
   ],
   "source": [
    "print(pathways['R-MMU-556833'].asdict())"
   ]
  },
  {
   "cell_type": "code",
   "execution_count": 50,
   "metadata": {},
   "outputs": [
    {
     "name": "stdout",
     "output_type": "stream",
     "text": [
      "amount of multiparent-nodes 31\n"
     ]
    }
   ],
   "source": [
    "print(\"amount of multiparent-nodes\", len([k for k,v in pathways.items() if len(v.parents) > 1]))"
   ]
  },
  {
   "cell_type": "code",
   "execution_count": null,
   "metadata": {},
   "outputs": [],
   "source": []
  }
 ],
 "metadata": {
  "interpreter": {
   "hash": "03137b3777ab4f9c9bc9ac7023f9fa139cd2cc1a106e6d325e2fe07207307779"
  },
  "kernelspec": {
   "display_name": "Python 3.7.10 ('base')",
   "language": "python",
   "name": "python3"
  },
  "language_info": {
   "codemirror_mode": {
    "name": "ipython",
    "version": 3
   },
   "file_extension": ".py",
   "mimetype": "text/x-python",
   "name": "python",
   "nbconvert_exporter": "python",
   "pygments_lexer": "ipython3",
   "version": "3.7.10"
  },
  "orig_nbformat": 4
 },
 "nbformat": 4,
 "nbformat_minor": 2
}
